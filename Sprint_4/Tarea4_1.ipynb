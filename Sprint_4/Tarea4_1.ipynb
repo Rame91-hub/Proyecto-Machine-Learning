{
 "cells": [
  {
   "cell_type": "markdown",
   "metadata": {},
   "source": [
    "# Ejercicio 1\n",
    "## Consumir una API\n",
    "### Selecciona una API pública y extrae datos utilizando Python.\n"
   ]
  },
  {
   "cell_type": "code",
   "execution_count": 21,
   "metadata": {},
   "outputs": [],
   "source": [
    "# Importamos los modulos necesarios\n",
    "import requests\n",
    "from pandas import DataFrame"
   ]
  },
  {
   "cell_type": "code",
   "execution_count": 35,
   "metadata": {},
   "outputs": [],
   "source": [
    "# Creamos una funcion para consumir la API\n",
    "def request_api(url):\n",
    "    # recibe la url de la API\n",
    "    try:\n",
    "        data = requests.get(url)\n",
    "        if data.status_code == 200: # Verificamos que se recibieron los datos correctamente\n",
    "            data = data.json()\n",
    "            data = data['results']\n",
    "            return data  \n",
    "    except:\n",
    "        return \"Error\"  "
   ]
  },
  {
   "cell_type": "code",
   "execution_count": 44,
   "metadata": {},
   "outputs": [
    {
     "name": "stdout",
     "output_type": "stream",
     "text": [
      "[{'name': 'bulbasaur', 'url': 'https://pokeapi.co/api/v2/pokemon/1/'}, {'name': 'ivysaur', 'url': 'https://pokeapi.co/api/v2/pokemon/2/'}, {'name': 'venusaur', 'url': 'https://pokeapi.co/api/v2/pokemon/3/'}, {'name': 'charmander', 'url': 'https://pokeapi.co/api/v2/pokemon/4/'}, {'name': 'charmeleon', 'url': 'https://pokeapi.co/api/v2/pokemon/5/'}, {'name': 'charizard', 'url': 'https://pokeapi.co/api/v2/pokemon/6/'}, {'name': 'squirtle', 'url': 'https://pokeapi.co/api/v2/pokemon/7/'}, {'name': 'wartortle', 'url': 'https://pokeapi.co/api/v2/pokemon/8/'}, {'name': 'blastoise', 'url': 'https://pokeapi.co/api/v2/pokemon/9/'}, {'name': 'caterpie', 'url': 'https://pokeapi.co/api/v2/pokemon/10/'}, {'name': 'metapod', 'url': 'https://pokeapi.co/api/v2/pokemon/11/'}, {'name': 'butterfree', 'url': 'https://pokeapi.co/api/v2/pokemon/12/'}, {'name': 'weedle', 'url': 'https://pokeapi.co/api/v2/pokemon/13/'}, {'name': 'kakuna', 'url': 'https://pokeapi.co/api/v2/pokemon/14/'}, {'name': 'beedrill', 'url': 'https://pokeapi.co/api/v2/pokemon/15/'}, {'name': 'pidgey', 'url': 'https://pokeapi.co/api/v2/pokemon/16/'}, {'name': 'pidgeotto', 'url': 'https://pokeapi.co/api/v2/pokemon/17/'}, {'name': 'pidgeot', 'url': 'https://pokeapi.co/api/v2/pokemon/18/'}, {'name': 'rattata', 'url': 'https://pokeapi.co/api/v2/pokemon/19/'}, {'name': 'raticate', 'url': 'https://pokeapi.co/api/v2/pokemon/20/'}]\n",
      "    Poke_name                                    url\n",
      "0         NaN   https://pokeapi.co/api/v2/pokemon/1/\n",
      "1         NaN   https://pokeapi.co/api/v2/pokemon/2/\n",
      "2         NaN   https://pokeapi.co/api/v2/pokemon/3/\n",
      "3         NaN   https://pokeapi.co/api/v2/pokemon/4/\n",
      "4         NaN   https://pokeapi.co/api/v2/pokemon/5/\n",
      "5         NaN   https://pokeapi.co/api/v2/pokemon/6/\n",
      "6         NaN   https://pokeapi.co/api/v2/pokemon/7/\n",
      "7         NaN   https://pokeapi.co/api/v2/pokemon/8/\n",
      "8         NaN   https://pokeapi.co/api/v2/pokemon/9/\n",
      "9         NaN  https://pokeapi.co/api/v2/pokemon/10/\n",
      "10        NaN  https://pokeapi.co/api/v2/pokemon/11/\n",
      "11        NaN  https://pokeapi.co/api/v2/pokemon/12/\n",
      "12        NaN  https://pokeapi.co/api/v2/pokemon/13/\n",
      "13        NaN  https://pokeapi.co/api/v2/pokemon/14/\n",
      "14        NaN  https://pokeapi.co/api/v2/pokemon/15/\n",
      "15        NaN  https://pokeapi.co/api/v2/pokemon/16/\n",
      "16        NaN  https://pokeapi.co/api/v2/pokemon/17/\n",
      "17        NaN  https://pokeapi.co/api/v2/pokemon/18/\n",
      "18        NaN  https://pokeapi.co/api/v2/pokemon/19/\n",
      "19        NaN  https://pokeapi.co/api/v2/pokemon/20/\n"
     ]
    }
   ],
   "source": [
    "url = 'https://pokeapi.co/api/v2/pokemon'\n",
    "poke_frame = request_api(url)\n",
    "print(poke_frame)\n",
    "if poke_frame != None:\n",
    "    df = DataFrame(poke_frame, columns=['Poke_name','url'])\n",
    "    print(df)\n",
    "elif poke_frame == None:\n",
    "    print(\"Request Api error\")"
   ]
  },
  {
   "cell_type": "markdown",
   "metadata": {},
   "source": [
    "# Ejercicio 2 \n",
    "## Obtener datos con Web Scraping\n",
    "### Selecciona un sitio web y extrae datos utilizando la técnica de Web Scraping en Python."
   ]
  },
  {
   "cell_type": "code",
   "execution_count": null,
   "metadata": {},
   "outputs": [],
   "source": [
    "# Importamos los modulos necesarios\n",
    "import requests\n",
    "import pandas as pd\n",
    "from bs4 import BeautifulSoup"
   ]
  },
  {
   "cell_type": "code",
   "execution_count": 67,
   "metadata": {},
   "outputs": [],
   "source": [
    "def extract_elements(url):\n",
    "    page = requests.get(url)\n",
    "    soup = BeautifulSoup(page.text, 'html.parser') # creamos un objeto BeautifulSoup\n",
    "    quotes = soup.find_all('blockquote') #Buscar todos los elementos\n",
    "    return quotes\n",
    "\n",
    "def extract_info(quotes):\n",
    "    # Esta funcion itera sobre los bloques y extrae información\n",
    "    info_df = pd.DataFrame(columns=[\"autor\", \"categoria\", \"frase\"])\n",
    "    for blockquote in quotes:\n",
    "        autor = blockquote.find(class_='author').text # Busca el autor\n",
    "        categoria = blockquote.find(class_='cat').text # Busca la categoria\n",
    "        frase = blockquote.find('q').text # Busca la frase\n",
    "        new_row = pd.DataFrame({\"autor\": [autor], \"categoria\": [categoria], \"frase\": [frase]})\n",
    "        info_df = pd.concat([info_df, new_row], ignore_index=True)  # Concatenar\n",
    "    return info_df"
   ]
  },
  {
   "cell_type": "code",
   "execution_count": 68,
   "metadata": {},
   "outputs": [
    {
     "name": "stdout",
     "output_type": "stream",
     "text": [
      "                       autor            categoria  \\\n",
      "0              Blaise Pascal             Sociedad   \n",
      "1      Jean Jacques Rousseau             Sociedad   \n",
      "2              Blaise Pascal           Naturaleza   \n",
      "3             Mahatma Gandhi             Defectos   \n",
      "4   Gilbert Keith Chesterton           Miscelánea   \n",
      "5                     Goethe  Pensamiento y razón   \n",
      "6                    Emerson           Miscelánea   \n",
      "7        Friedrich Nietzsche             Sociedad   \n",
      "8                     Platón             Sociedad   \n",
      "9          Jorge Luis Borges                 Arte   \n",
      "10                   Emerson  Pensamiento y razón   \n",
      "11               Aristóteles             Sociedad   \n",
      "12          Baltasar Gracián           Miscelánea   \n",
      "13                    Goethe         Sentimientos   \n",
      "14               Aristóteles             Sociedad   \n",
      "15         Benjamin Franklin             Sociedad   \n",
      "16                  Voltaire         Sentimientos   \n",
      "17       George Bernard Shaw         Sentimientos   \n",
      "18      José Ortega y Gasset           Naturaleza   \n",
      "19               Victor Hugo             Sociedad   \n",
      "\n",
      "                                                frase  \n",
      "0   Prefiero equivocarme creyendo en un Dios que n...  \n",
      "1   El hombre ha nacido libre y por doquiera se en...  \n",
      "2   Nuestra naturaleza está en movimiento. El repo...  \n",
      "3   Quisiera sufrir todas las humillaciones, todas...  \n",
      "4   La única simplicidad que vale la pena de conse...  \n",
      "5   Las ideas audaces son como piezas de ajedrez. ...  \n",
      "6   No me dejes caer en el vulgar error de soñar q...  \n",
      "7   Un político divide a las personas en dos grupo...  \n",
      "8   El más importante y principal negocio público ...  \n",
      "9   La literatura no es otra cosa que un sueño dir...  \n",
      "10   ¿Cuál es la tarea más difícil del mundo? Pensar.  \n",
      "11  Se piensa que lo justo es lo igual, y así es; ...  \n",
      "12              Saber olvidar, más es dicha que arte.  \n",
      "13  Bueno es tener la alegría en casa y no haber m...  \n",
      "14  No hace falta un gobierno perfecto; se necesit...  \n",
      "15  Los hombres son criaturas muy raras: la mitad ...  \n",
      "16  Conviene siempre esforzarse más en ser interes...  \n",
      "17  El peor pecado hacia nuestros semejantes no es...  \n",
      "18  La vida es una serie de colisiones con el futu...  \n",
      "19                    Dios es la evidencia invisible.  \n"
     ]
    }
   ],
   "source": [
    "\n",
    "url = \"https://parascrapear.com/\"\n",
    "\n",
    "quotes = extract_elements(url)\n",
    "info_df = extract_info(quotes)\n",
    "\n",
    "print (info_df)"
   ]
  }
 ],
 "metadata": {
  "kernelspec": {
   "display_name": "Python 3",
   "language": "python",
   "name": "python3"
  },
  "language_info": {
   "codemirror_mode": {
    "name": "ipython",
    "version": 3
   },
   "file_extension": ".py",
   "mimetype": "text/x-python",
   "name": "python",
   "nbconvert_exporter": "python",
   "pygments_lexer": "ipython3",
   "version": "3.9.13"
  }
 },
 "nbformat": 4,
 "nbformat_minor": 2
}
