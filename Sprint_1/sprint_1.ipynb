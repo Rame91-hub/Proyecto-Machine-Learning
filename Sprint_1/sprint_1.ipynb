{
 "cells": [
  {
   "cell_type": "markdown",
   "metadata": {},
   "source": [
    "Sprint 1\n",
    "\n",
    "Tipo de variables\n",
    "\n",
    "Etiquetas\n",
    "Las etiquetas, también conocidas como variable de destino o variable dependiente, son los valores que queremos predecir o clasificar en una tarea de aprendizaje automático. Pueden ser numéricas (regresión) o categóricas (clasificación). En el aprendizaje supervisado, donde un modelo se entrena con datos etiquetados, las etiquetas se proporcionan explícitamente durante la fase de entrenamiento. Por ejemplo, en una tarea de clasificación de correo electrónico no deseado, las etiquetas serían \"spam\" o \"no es spam\". El objetivo es crear un modelo que pueda asignar con precisión la etiqueta correcta a datos nuevos que no se han visto.\n",
    "\n",
    "Características\n",
    "Las características, también denominadas variables independientes o predictores, son las características o atributos medibles de los datos que proporcionan información al modelo de aprendizaje automático. Estas características se utilizan para entrenar el modelo y hacer predicciones. Las características pueden ser numéricas, categóricas o incluso basadas en texto, según el tipo de datos y el algoritmo de aprendizaje automático que se utilice."
   ]
  }
 ],
 "metadata": {
  "kernelspec": {
   "display_name": "Python 3",
   "language": "python",
   "name": "python3"
  },
  "language_info": {
   "name": "python",
   "version": "3.9.13"
  }
 },
 "nbformat": 4,
 "nbformat_minor": 2
}
