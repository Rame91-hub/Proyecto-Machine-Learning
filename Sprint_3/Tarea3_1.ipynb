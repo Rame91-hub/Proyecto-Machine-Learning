{
 "cells": [
  {
   "cell_type": "markdown",
   "metadata": {},
   "source": [
    "# Proyecto de ML para reducir el tiempo de inactividad de una maquina\n",
    "## Introduccion\n",
    "\n",
    "Imagina una máquina que opera sin descanso, 24/7, para garantizar que una fábrica de chocolate funcione sin interrupciones. En esta fábrica, los maestros chocolateros crean recetas únicas y personalizadas, ajustando cada lote según las preferencias de sabor y textura de los clientes. Los pedidos de chocolate pueden gestionarse fácilmente a través de una app o el sitio web de la empresa y automaticamente pasan a produccion luego del pedido por lo que cualquier insidencia con la maquina podria genera un retrazo en los pedidos.\n",
    "\n",
    "## Objetivos del proyecto\n",
    " 1.  ¿Cuáles son los objetivos del negocio?\n",
    " \n",
    "> El objetivo del proyecto es minimizar al máximo el tiempo en que la máquina se encuentra fuera de operación, optimizando su disponibilidad y continuidad. Para ello, se busca desarrollar un sistema que permita predecir con precisión posibles fallos futuros, de modo que puedan planificarse y ejecutarse mantenimientos preventivos de forma controlada antes de que ocurra una falla inesperada. Esto permitirá no solo reducir los tiempos de inactividad, sino también asegurar la eficiencia operativa y prolongar la vida útil de la máquina, garantizando así una producción ininterrumpida y confiable.\n",
    " \n",
    " 2.  ¿Qué decisiones o procesos específicos desea mejorar o automatizar con ML?\n",
    " \n",
    "> El objetivo del proyecto es minimizar el tiempo de inactividad de la máquina mediante la detección temprana de posibles fallos, permitiendo planificar los mantenimientos con anticipación y asegurar una operación continua y eficiente.\n",
    "\n",
    " 3.  ¿Se podría resolver el problema de forma no automatizada?\n",
    "\n",
    "> Si bien este problema podría abordarse con mantenimientos manuales más frecuentes, esta solución resultaría ineficiente, significativamente más costosa y, aun así, no garantiza la prevención de fallos inesperados.\n",
    "\n",
    "## Metodologia propuesta\n",
    "\n",
    "> Para crear el modelo he decidido escoger un modelo de aprendizaje supervisado de regresión lineal múltiple (RLM).\n",
    "> He seleccionado este algoritmo porque permite analizar múltiples variables, tanto la variable de resultado como las variables de características son  numéricas y continuas, lo cual es adecuado para este enfoque. Además, las variables que emplearemos (temperatura y potencia) presentan una relación lineal tanto entre sí como con la variable resultado, lo que se ajusta a los supuestos del modelo y optimiza su precisión.\n",
    "\n",
    "> Para evaluar el rendimiento de modelo evaluaremos qué tan bien hace las predicciones y si se ajustan a los valores reales, utilizando diversas métricas que analizan la precisión y la variabilidad de los errores, para esto utilizaremos Error Cuadrático Medio (MSE) y el Coeficiente de Determinación (R²).\n",
    "\n",
    "> El Error Cuadrático Medio (MSE) nos ayudara a medir la precision general del modelo y el Coeficiente de Determinación (R²) describe la proporción de varianza de la variable respuesta explicada por el modelo y relativa a la varianza total\n",
    "\n",
    "## Datos disponibles\n",
    "\n",
    "5. ¿Qué datos están disponibles para abordar este problema?\n",
    "\n",
    "> La máquina cuenta con un datalogger que guarda todos los datos de funcionamiento, como temperatura, potencia del motor, etc. Este historial incluye datos tanto de funcionamiento normal como de condiciones anómalas y fallos, lo cual facilita el entrenamiento del modelo. Tras comentarlo con la fábrica, nos pueden proporcionar todos estos datos.\n",
    "\n",
    "## Metrica de salida\n",
    "\n",
    "6. ¿Cuál es la métrica de éxito para este proyecto?\n",
    "> El tiempo de máquina operativa. Esta métrica reflejaría directamente si el modelo es efectivo o no, comparando el tiempo de máquina operativa sin aplicar el modelo de mantenimiento predictivo.\n",
    "\n",
    "## Responsabilides eticas y sociales\n",
    "\n",
    "1. **Impacto en el empleo:** La automatización de la detección de fallos podría reducir la necesidad de personal técnico para tareas de inspección y mantenimiento rutinario. Esto podría generar preocupaciones sobre la estabilidad laboral de empleados cuya labor se vea parcialmente reemplazada por tecnologías predictivas. Para mitigar este impacto, sería importante promover programas de formación en nuevas competencias técnicas para el personal afectado.\n",
    "\n",
    "2. **Privacidad de datos:** El uso de datos operativos requiere un manejo responsable para proteger la privacidad y cumplir con normas de seguridad.\n",
    "\n",
    "3. **Transparencia y confianza:** La implementación de un sistema de mantenimiento predictivo debe ser transparente para todos los involucrados. Esto implica comunicar claramente cómo y por qué se toman decisiones basadas en datos, lo cual ayuda a construir confianza en la tecnología y asegura que el personal no perciba el sistema como una amenaza.\n",
    "\n",
    "4. **Responsabilidad y toma de decisiones:** En caso de que el sistema falle al predecir una avería o haga una predicción errónea, es importante definir quién asume la responsabilidad de esas decisiones automatizadas. Esto incluye la identificación de procedimientos claros para intervenir manualmente cuando sea necesario y para evaluar los riesgos asociados con las predicciones.\n",
    "\n",
    "5. **Sostenibilidad y eficiencia energética:** Un sistema predictivo podría optimizar el uso de recursos, promoviendo un mantenimiento más eficiente y reduciendo desperdicios.\n",
    "\n",
    "> Considerar estas implicaciones ayuda a que la implementación del mantenimiento predictivo sea socialmente responsable y genere un impacto positivo para la organización y sus trabajadores."
   ]
  }
 ],
 "metadata": {
  "kernelspec": {
   "display_name": ".venv",
   "language": "python",
   "name": "python3"
  },
  "language_info": {
   "codemirror_mode": {
    "name": "ipython",
    "version": 3
   },
   "file_extension": ".py",
   "mimetype": "text/x-python",
   "name": "python",
   "nbconvert_exporter": "python",
   "pygments_lexer": "ipython3",
   "version": "3.9.13"
  }
 },
 "nbformat": 4,
 "nbformat_minor": 2
}
