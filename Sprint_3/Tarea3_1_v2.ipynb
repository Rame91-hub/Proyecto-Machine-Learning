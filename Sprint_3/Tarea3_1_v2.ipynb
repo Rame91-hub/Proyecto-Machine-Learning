{
 "cells": [
  {
   "cell_type": "markdown",
   "metadata": {},
   "source": [
    "# Proyecto de ML para incrementar el gasto anual de clientes en la tienda\n",
    "## Introduccion\n",
    "\n",
    "Se trata de una tienda exclusiva especializada en la confección y venta de ropa a medida. Destaca por ofrecer consultorías altamente personalizadas. Los clientes visitan la tienda para recibir asesoramiento directo de estilistas expertos que ayudan a crear prendas únicas que se ajusten perfectamente a sus preferencias y medidas. Después de la sesión de consultoría, los clientes pueden realizar pedidos de ropa a través de una aplicación móvil o del sitio web de la empresa.\n",
    "\n",
    "## Objetivos del proyecto\n",
    " 1.  ¿Cuáles son los objetivos del negocio?\n",
    " \n",
    "> Aumentar las ventas evaluando dónde concentrar los esfuerzos: mejorando la experiencia de los clientes en el sitio web o en la aplicación móvil.\n",
    " \n",
    " 2.  ¿Qué decisiones o procesos específicos desea mejorar o automatizar con ML?\n",
    " \n",
    "> Se busca optimizar las decisiones empresariales relacionadas con la experiencia del cliente y automatizar la predicción del gasto anual de cada cliente.\n",
    "\n",
    " 3.  ¿Se podría resolver el problema de forma no automatizada?\n",
    "\n",
    "> Aunque la predicción del gasto anual de cada cliente se puede realizar utilizando hojas de cálculo o software estadístico, el uso de machine learning permitirá automatizar este proceso mediante entrenamientos programados que incorporen rápidamente las transacciones diarias sin necesidad de intervención manual.\n",
    "\n",
    "## Metodologia propuesta\n",
    "\n",
    "> El algoritmo de aprendizaje automático más adecuado para abordar este problema es la regresión lineal, dado que permite realizar predicciones continuas basadas en el historial de compras y los gastos anuales de los clientes en las tiendas. La regresión lineal es idónea para problemas de predicción de variables continuas y facilita la interpretación de los factores que tienen mayor impacto en el modelo, lo que se alinea con los objetivos de optimización de la empresa. \n",
    "\n",
    "> Para evaluar el desempeño del modelo, se emplearían métricas como el coeficiente de determinación (R²) y error cuadrático medio (MSE), que permiten medir tanto la precisión como la capacidad predictiva del modelo.\n",
    "\n",
    "## Datos disponibles\n",
    "\n",
    "5. ¿Qué datos están disponibles para abordar este problema?\n",
    "\n",
    "> La tienda cuenta con un conjunto de datos actualizado que incluye información identificativa de cada cliente, la suma anual que ha gastado en la tienda, el tiempo dedicado a interactuar tanto en el sitio web como en la aplicación móvil, y el estado de membresía.\n",
    "\n",
    "## Metrica de salida\n",
    "\n",
    "6. ¿Cuál es la métrica de éxito para este proyecto?\n",
    "> Aumento en el Gasto Anual Promedio por Cliente. Esta métrica reflejaría directamente la efectividad del modelo en mejorar las decisiones de la empresa.\n",
    "\n",
    "## Responsabilides eticas y sociales\n",
    "\n",
    "1. **Impacto en el empleo:** La automatización de la detección de fallos podría reducir la necesidad de personal en las tiendas. Esto podría generar preocupaciones sobre la estabilidad laboral de empleados cuya labor se vea parcialmente reemplazada por tecnologías. Para mitigar este impacto, sería importante promover programas de formación en nuevas competencias técnicas para el personal afectado.\n",
    "\n",
    "2. **Privacidad de datos:** El uso de datos operativos requiere un manejo responsable para proteger la privacidad y cumplir con normas de seguridad.\n",
    "\n",
    "3. **Transparencia y confianza:** La implementación de un sistema de mantenimiento predictivo debe ser transparente para todos los involucrados. Esto implica comunicar claramente cómo y por qué se toman decisiones basadas en datos, lo cual ayuda a construir confianza en la tecnología y asegura que las personas no perciba el sistema como una amenaza.\n",
    "\n",
    "4. **Sostenibilidad y eficiencia energética:** Un sistema predictivo podría optimizar el uso de recursos, promoviendo un entorno eficiente y reduciendo desperdicios al realizar las ventas en linea y no de en tienda fisica.\n",
    "\n",
    "> Considerar estas implicaciones ayuda a que la implementación del mantenimiento predictivo sea socialmente responsable y genere un impacto positivo para la organización y sus trabajadores."
   ]
  }
 ],
 "metadata": {
  "kernelspec": {
   "display_name": ".venv",
   "language": "python",
   "name": "python3"
  },
  "language_info": {
   "codemirror_mode": {
    "name": "ipython",
    "version": 3
   },
   "file_extension": ".py",
   "mimetype": "text/x-python",
   "name": "python",
   "nbconvert_exporter": "python",
   "pygments_lexer": "ipython3",
   "version": "3.9.13"
  }
 },
 "nbformat": 4,
 "nbformat_minor": 2
}
